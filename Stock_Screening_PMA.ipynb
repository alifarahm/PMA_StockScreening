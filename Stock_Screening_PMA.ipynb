{
 "cells": [
  {
   "cell_type": "code",
   "execution_count": 114,
   "metadata": {
    "collapsed": false
   },
   "outputs": [],
   "source": [
    "import pandas as pd\n",
    "import numpy as np\n",
    "import pandas_datareader as web\n",
    "import pickle\n",
    "%matplotlib inline"
   ]
  },
  {
   "cell_type": "code",
   "execution_count": 115,
   "metadata": {
    "collapsed": true
   },
   "outputs": [],
   "source": [
    "def extractPrice_daily(symbol, start_date='2010-02-28'):\n",
    "    try:\n",
    "        priceDF=pd.DataFrame()\n",
    "        priceDF=web.DataReader(symbol, data_source='yahoo', start=start_date)\n",
    "        priceDF.dropna(inplace=True)\n",
    "        \n",
    "        return priceDF  #dtaframe of OHLC vol and Adj Close\n",
    "        \n",
    "    except Exception as e:\n",
    "        print ('extractPrice_daily',str(e))"
   ]
  },
  {
   "cell_type": "code",
   "execution_count": 20,
   "metadata": {
    "collapsed": true
   },
   "outputs": [],
   "source": [
    "def extractPrice_Intraday(symbol, num_days=10):\n",
    "    try:\n",
    "        urlToVisit='http://www.google.com/finance/getprices?i=1800&p='+str(num_days)+'d&f=d,o,h,l,c,v&df=cpct&q='+symbol\n",
    "        cols = ['openp', 'highp', 'lowp', 'closep','volume']\n",
    "        priceDF = pd.DataFrame()\n",
    "        priceDF = pd.read_csv(urlToVisit, index_col=0, parse_dates=True, dayfirst=True, header=None,\n",
    "                         skiprows=8, names=cols)\n",
    "        \n",
    "        priceDF.dropna(inplace=True)\n",
    "        return priceDF\n",
    "        \n",
    "    except Exception as e:\n",
    "        print ('extractPrice_daily', str(e))"
   ]
  },
  {
   "cell_type": "code",
   "execution_count": 22,
   "metadata": {
    "collapsed": true
   },
   "outputs": [],
   "source": [
    "def PMA_Strategy_daily(price_df, short_PMA=14, med_PMA=30, long_pma=50):\n",
    "    try:\n",
    "        \n",
    "        priceDF = price_df\n",
    "        \n",
    "        priceDF['HCL_Ave'] = list(map(lambda x, y, z:(x+y+z)/3, priceDF['Adj Close'], priceDF['High'], priceDF['Low']))     \n",
    "        #this is the way that we apply a formula on a series\n",
    "        \n",
    "        priceDF['HCL_MA14'] = priceDF['HCL_Ave'].ewm(span=short_PMA).mean()\n",
    "        priceDF['HCL_MA30'] = priceDF['HCL_Ave'].ewm(span=med_PMA).mean()\n",
    "        priceDF['HCL_MA50'] = priceDF['HCL_Ave'].ewm(span=long_pma).mean()\n",
    "        \n",
    "        if  priceDF['HCL_MA14'].iloc[-1] > priceDF['HCL_MA30'].iloc[-1] > priceDF['HCL_MA50'].iloc[-1]:\n",
    "            return 'Yes'\n",
    "        else:\n",
    "            return 'No'\n",
    "\n",
    "    except Exception as e:\n",
    "        print ('PMA_Strategy_daily', str(e)) "
   ]
  },
  {
   "cell_type": "code",
   "execution_count": 27,
   "metadata": {
    "collapsed": false
   },
   "outputs": [],
   "source": [
    "def PMA_Strategy_Intraday(price_df,short_PMA=14, med_PMA=30, long_pma=50):\n",
    "    try:\n",
    "        \n",
    "        priceDF = price_df\n",
    "        \n",
    "        priceDF['HCL_Ave'] = list(map(lambda x,y,z:(x+y+z)/3,priceDF['closep'],priceDF['highp'],priceDF['lowp']))     \n",
    "        \n",
    "        priceDF['HCL_MA14'] = priceDF['HCL_Ave'].ewm(span=short_PMA).mean()\n",
    "        priceDF['HCL_MA30'] = priceDF['HCL_Ave'].ewm(span=med_PMA).mean()\n",
    "        priceDF['HCL_MA50'] = priceDF['HCL_Ave'].ewm(span=long_pma).mean()\n",
    "       \n",
    "        if  (priceDF['HCL_MA14'].iloc[-1] > priceDF['HCL_MA30'].iloc[-1] > priceDF['HCL_MA50'].iloc[-1]) and \\\n",
    "        priceDF['HCL_MA14'].iloc[-1] > priceDF['HCL_MA14'].iloc[-2] and \\\n",
    "        priceDF['HCL_MA30'].iloc[-1] > priceDF['HCL_MA30'].iloc[-2] and \\\n",
    "        priceDF['HCL_MA50'].iloc[-1] > priceDF['HCL_MA50'].iloc[-2]:\n",
    "            return 'Yes'\n",
    "        else:\n",
    "            return 'No'\n",
    "\n",
    "    except Exception as e:\n",
    "        print ('PMA_Strategy_Intraday', str(e))"
   ]
  },
  {
   "cell_type": "code",
   "execution_count": 39,
   "metadata": {
    "collapsed": true
   },
   "outputs": [],
   "source": [
    "def extracting_symbols():\n",
    "    try:\n",
    "        sp500List = pd.read_csv('http://data.okfn.org/data/core/s-and-p-500-companies/r/constituents.csv')\n",
    "        sp500List.rename(columns = {'Symbol':'symbol','Name':'name','Sector':'sector'}, inplace=True)\n",
    "        return sp500List\n",
    "        \n",
    "    except Exception as e:\n",
    "        print ('extracting_symbols', str(e)) "
   ]
  },
  {
   "cell_type": "code",
   "execution_count": 103,
   "metadata": {
    "collapsed": false
   },
   "outputs": [],
   "source": [
    "def stock_screening(symbols_df):\n",
    "    try:\n",
    "        strategy_PMA=[]\n",
    "        for i in range(len(symbols_df)):\n",
    "            strategy_PMA.append(PMA_Strategy_Intraday(extractPrice_Intraday(symbols_df['symbol'].iloc[i])))\n",
    "            \n",
    "        symbols_df['strategy_PMA'] = strategy_PMA\n",
    "        symbols_df =symbols_df[symbols_df['strategy_PMA']=='Yes']\n",
    "        symbols_df.reset_index(drop=True,inplace=True)\n",
    "        \n",
    "        strategy_PMA_daily = []\n",
    "        for i in range(len(symbols_df)):\n",
    "             strategy_PMA_daily.append(PMA_Strategy_daily(extractPrice_daily(symbols_df['symbol'].iloc[i])))\n",
    "        \n",
    "        symbols_df['strategy_PMA_daily'] = strategy_PMA_daily\n",
    "            \n",
    "        return symbols_df    \n",
    "    \n",
    "    except Exception as e:\n",
    "        print ('stock_screening', str(e))"
   ]
  },
  {
   "cell_type": "markdown",
   "metadata": {},
   "source": [
    "### Running the model on May 10, 2017"
   ]
  },
  {
   "cell_type": "code",
   "execution_count": 106,
   "metadata": {
    "collapsed": false
   },
   "outputs": [
    {
     "name": "stdout",
     "output_type": "stream",
     "text": [
      "('PMA_Strategy_Intraday', 'single positional indexer is out-of-bounds')\n",
      "('PMA_Strategy_Intraday', 'single positional indexer is out-of-bounds')\n",
      "('extractPrice_daily', \"after 3 tries, Yahoo! did not return a 200 for url 'http://ichart.finance.yahoo.com/table.csv?s=BF.B&a=1&b=28&c=2010&d=4&e=10&f=2017&g=d&ignore=.csv'\")\n",
      "('PMA_Strategy_daily', \"'NoneType' object has no attribute '__getitem__'\")\n"
     ]
    },
    {
     "name": "stderr",
     "output_type": "stream",
     "text": [
      "C:\\Users\\alifa\\Anaconda2\\lib\\site-packages\\ipykernel\\__main__.py:15: SettingWithCopyWarning: \n",
      "A value is trying to be set on a copy of a slice from a DataFrame.\n",
      "Try using .loc[row_indexer,col_indexer] = value instead\n",
      "\n",
      "See the caveats in the documentation: http://pandas.pydata.org/pandas-docs/stable/indexing.html#indexing-view-versus-copy\n"
     ]
    }
   ],
   "source": [
    "stock_screening_result = stock_screening(extracting_symbols())"
   ]
  },
  {
   "cell_type": "code",
   "execution_count": 109,
   "metadata": {
    "collapsed": false
   },
   "outputs": [
    {
     "data": {
      "text/html": [
       "<div>\n",
       "<table border=\"1\" class=\"dataframe\">\n",
       "  <thead>\n",
       "    <tr style=\"text-align: right;\">\n",
       "      <th></th>\n",
       "      <th>symbol</th>\n",
       "      <th>name</th>\n",
       "      <th>sector</th>\n",
       "      <th>strategy_PMA</th>\n",
       "      <th>strategy_PMA_daily</th>\n",
       "    </tr>\n",
       "  </thead>\n",
       "  <tbody>\n",
       "    <tr>\n",
       "      <th>0</th>\n",
       "      <td>ATVI</td>\n",
       "      <td>Activision Blizzard</td>\n",
       "      <td>Information Technology</td>\n",
       "      <td>Yes</td>\n",
       "      <td>Yes</td>\n",
       "    </tr>\n",
       "    <tr>\n",
       "      <th>1</th>\n",
       "      <td>ADBE</td>\n",
       "      <td>Adobe Systems Inc</td>\n",
       "      <td>Information Technology</td>\n",
       "      <td>Yes</td>\n",
       "      <td>Yes</td>\n",
       "    </tr>\n",
       "    <tr>\n",
       "      <th>2</th>\n",
       "      <td>AES</td>\n",
       "      <td>AES Corp</td>\n",
       "      <td>Utilities</td>\n",
       "      <td>Yes</td>\n",
       "      <td>No</td>\n",
       "    </tr>\n",
       "    <tr>\n",
       "      <th>3</th>\n",
       "      <td>AET</td>\n",
       "      <td>Aetna Inc</td>\n",
       "      <td>Health Care</td>\n",
       "      <td>Yes</td>\n",
       "      <td>Yes</td>\n",
       "    </tr>\n",
       "    <tr>\n",
       "      <th>4</th>\n",
       "      <td>AAL</td>\n",
       "      <td>American Airlines Group</td>\n",
       "      <td>Industrials</td>\n",
       "      <td>Yes</td>\n",
       "      <td>No</td>\n",
       "    </tr>\n",
       "  </tbody>\n",
       "</table>\n",
       "</div>"
      ],
      "text/plain": [
       "  symbol                     name                  sector strategy_PMA  \\\n",
       "0   ATVI      Activision Blizzard  Information Technology          Yes   \n",
       "1   ADBE        Adobe Systems Inc  Information Technology          Yes   \n",
       "2    AES                 AES Corp               Utilities          Yes   \n",
       "3    AET                Aetna Inc             Health Care          Yes   \n",
       "4    AAL  American Airlines Group             Industrials          Yes   \n",
       "\n",
       "  strategy_PMA_daily  \n",
       "0                Yes  \n",
       "1                Yes  \n",
       "2                 No  \n",
       "3                Yes  \n",
       "4                 No  "
      ]
     },
     "execution_count": 109,
     "metadata": {},
     "output_type": "execute_result"
    }
   ],
   "source": [
    "stock_screening_result.head()"
   ]
  },
  {
   "cell_type": "code",
   "execution_count": 112,
   "metadata": {
    "collapsed": false
   },
   "outputs": [
    {
     "data": {
      "text/plain": [
       "Consumer Discretionary         34\n",
       "Information Technology         27\n",
       "Energy                         22\n",
       "Industrials                    13\n",
       "Consumer Staples               10\n",
       "Health Care                     9\n",
       "Real Estate                     6\n",
       "Materials                       4\n",
       "Utilities                       3\n",
       "Financials                      3\n",
       "Telecommunications Services     2\n",
       "Name: sector, dtype: int64"
      ]
     },
     "execution_count": 112,
     "metadata": {},
     "output_type": "execute_result"
    }
   ],
   "source": [
    "# number of screened stocks in each sector\n",
    "stock_screening_result['sector'].value_counts()"
   ]
  },
  {
   "cell_type": "code",
   "execution_count": 110,
   "metadata": {
    "collapsed": true
   },
   "outputs": [],
   "source": [
    "# choosing stock with both intraday and daily positive PMA strategy\n",
    "final_list=stock_screening_result[stock_screening_result['strategy_PMA_daily']=='Yes']"
   ]
  },
  {
   "cell_type": "code",
   "execution_count": 113,
   "metadata": {
    "collapsed": false
   },
   "outputs": [
    {
     "data": {
      "text/plain": [
       "Information Technology         21\n",
       "Consumer Discretionary         20\n",
       "Industrials                     7\n",
       "Health Care                     6\n",
       "Consumer Staples                5\n",
       "Real Estate                     4\n",
       "Financials                      3\n",
       "Energy                          3\n",
       "Materials                       3\n",
       "Utilities                       2\n",
       "Telecommunications Services     2\n",
       "Name: sector, dtype: int64"
      ]
     },
     "execution_count": 113,
     "metadata": {},
     "output_type": "execute_result"
    }
   ],
   "source": [
    "final_list['sector'].value_counts()"
   ]
  },
  {
   "cell_type": "code",
   "execution_count": null,
   "metadata": {
    "collapsed": true
   },
   "outputs": [],
   "source": []
  }
 ],
 "metadata": {
  "anaconda-cloud": {},
  "kernelspec": {
   "display_name": "Python 2",
   "language": "python",
   "name": "python2"
  },
  "language_info": {
   "codemirror_mode": {
    "name": "ipython",
    "version": 2
   },
   "file_extension": ".py",
   "mimetype": "text/x-python",
   "name": "python",
   "nbconvert_exporter": "python",
   "pygments_lexer": "ipython2",
   "version": "2.7.13"
  }
 },
 "nbformat": 4,
 "nbformat_minor": 1
}
