{
 "cells": [
  {
   "cell_type": "code",
   "execution_count": 1,
   "metadata": {
    "collapsed": false
   },
   "outputs": [
    {
     "name": "stderr",
     "output_type": "stream",
     "text": [
      "C:\\Users\\alifa\\Anaconda2\\lib\\site-packages\\pandas\\io\\data.py:35: FutureWarning: \n",
      "The pandas.io.data module is moved to a separate package (pandas-datareader) and will be removed from pandas in a future version.\n",
      "After installing the pandas-datareader package (https://github.com/pydata/pandas-datareader), you can change the import ``from pandas.io import data, wb`` to ``from pandas_datareader import data, wb``.\n",
      "  FutureWarning)\n"
     ]
    }
   ],
   "source": [
    "import pandas as pd\n",
    "import numpy as np\n",
    "import pandas.io.data as web\n",
    "import pickle\n",
    "%matplotlib inline"
   ]
  },
  {
   "cell_type": "code",
   "execution_count": 15,
   "metadata": {
    "collapsed": true
   },
   "outputs": [],
   "source": [
    "def PMA_Strategy_daily(symbol,short_PMA=14,med_PMA=30,long_pma=50):\n",
    "    try:\n",
    "        \n",
    "        priceDF=pd.DataFrame()\n",
    "        priceDF=web.DataReader(symbol,data_source='yahoo',start='2010-02-28')\n",
    "        priceDF.dropna(inplace=True)\n",
    "        \n",
    "        priceDF['HCL_Ave']=list(map(lambda x,y,z:(x+y+z)/3,priceDF['Adj Close'],priceDF['High'],priceDF['Low']))     \n",
    "        #this is the way that we apply a formula on a series\n",
    "        \n",
    "        priceDF['HCL_MA14']=priceDF['HCL_Ave'].ewm(span=short_PMA).mean()\n",
    "        priceDF['HCL_MA30']=priceDF['HCL_Ave'].ewm(span=med_PMA).mean()\n",
    "        priceDF['HCL_MA50']=priceDF['HCL_Ave'].ewm(span=long_pma).mean()\n",
    "        \n",
    "        if  priceDF['HCL_MA14'].iloc[-1]> priceDF['HCL_MA30'].iloc[-1]>priceDF['HCL_MA50'].iloc[-1]:\n",
    "            return 'Yes'\n",
    "        else:\n",
    "            return 'No'\n",
    "\n",
    "    except Exception as e:\n",
    "        print ('PMA_Strategy_daily',str(e)) "
   ]
  },
  {
   "cell_type": "code",
   "execution_count": 17,
   "metadata": {
    "collapsed": false
   },
   "outputs": [
    {
     "data": {
      "text/plain": [
       "'Yes'"
      ]
     },
     "execution_count": 17,
     "metadata": {},
     "output_type": "execute_result"
    }
   ],
   "source": [
    "PMA_Strategy_daily('AAPL')"
   ]
  },
  {
   "cell_type": "code",
   "execution_count": 27,
   "metadata": {
    "collapsed": false
   },
   "outputs": [],
   "source": [
    "def PMA_Strategy_Intraday(symbol,short_PMA=14,med_PMA=30,long_pma=50):\n",
    "    try:\n",
    "        \n",
    "        urlToVisit='http://www.google.com/finance/getprices?i=1800&p=10d&f=d,o,h,l,c,v&df=cpct&q='+symbol\n",
    "        cols = ['openp', 'highp', 'lowp', 'closep','volume']\n",
    "        priceDF = pd.read_csv(urlToVisit, index_col=0, parse_dates=True, dayfirst=True, header=None,\n",
    "                         skiprows=8, names=cols)\n",
    "        \n",
    "        priceDF.dropna(inplace=True)\n",
    "        priceDF['HCL_Ave']=list(map(lambda x,y,z:(x+y+z)/3,priceDF['closep'],priceDF['highp'],priceDF['lowp']))     \n",
    "        \n",
    "        priceDF['HCL_MA14']=priceDF['HCL_Ave'].ewm(span=short_PMA).mean()\n",
    "        priceDF['HCL_MA30']=priceDF['HCL_Ave'].ewm(span=med_PMA).mean()\n",
    "        priceDF['HCL_MA50']=priceDF['HCL_Ave'].ewm(span=long_pma).mean()\n",
    "       \n",
    "        if  (priceDF['HCL_MA14'].iloc[-1] > priceDF['HCL_MA30'].iloc[-1]>priceDF['HCL_MA50'].iloc[-1]) and \\\n",
    "        priceDF['HCL_MA14'].iloc[-1] > priceDF['HCL_MA14'].iloc[-2] and \\\n",
    "        priceDF['HCL_MA30'].iloc[-1] > priceDF['HCL_MA30'].iloc[-2] and \\\n",
    "        priceDF['HCL_MA50'].iloc[-1] > priceDF['HCL_MA50'].iloc[-2]:\n",
    "            return 'Yes'\n",
    "        else:\n",
    "            return 'No'\n",
    "\n",
    "    except Exception as e:\n",
    "        print ('PMA_Strategy_Intraday',str(e))"
   ]
  },
  {
   "cell_type": "code",
   "execution_count": 43,
   "metadata": {
    "collapsed": false
   },
   "outputs": [
    {
     "data": {
      "text/plain": [
       "'No'"
      ]
     },
     "execution_count": 43,
     "metadata": {},
     "output_type": "execute_result"
    }
   ],
   "source": [
    "PMA_Strategy_Intraday('AMG')"
   ]
  },
  {
   "cell_type": "code",
   "execution_count": 50,
   "metadata": {
    "collapsed": false
   },
   "outputs": [
    {
     "data": {
      "text/html": [
       "<div>\n",
       "<table border=\"1\" class=\"dataframe\">\n",
       "  <thead>\n",
       "    <tr style=\"text-align: right;\">\n",
       "      <th></th>\n",
       "      <th>symbol</th>\n",
       "      <th>Name</th>\n",
       "      <th>Sector</th>\n",
       "      <th>HCL_Strategy</th>\n",
       "    </tr>\n",
       "  </thead>\n",
       "  <tbody>\n",
       "    <tr>\n",
       "      <th>3</th>\n",
       "      <td>ACN</td>\n",
       "      <td>Accenture plc</td>\n",
       "      <td>Information Technology</td>\n",
       "      <td>Yes</td>\n",
       "    </tr>\n",
       "    <tr>\n",
       "      <th>4</th>\n",
       "      <td>ATVI</td>\n",
       "      <td>Activision Blizzard</td>\n",
       "      <td>Information Technology</td>\n",
       "      <td>Yes</td>\n",
       "    </tr>\n",
       "    <tr>\n",
       "      <th>5</th>\n",
       "      <td>AYI</td>\n",
       "      <td>Acuity Brands Inc</td>\n",
       "      <td>Industrials</td>\n",
       "      <td>Yes</td>\n",
       "    </tr>\n",
       "    <tr>\n",
       "      <th>6</th>\n",
       "      <td>ADBE</td>\n",
       "      <td>Adobe Systems Inc</td>\n",
       "      <td>Information Technology</td>\n",
       "      <td>Yes</td>\n",
       "    </tr>\n",
       "    <tr>\n",
       "      <th>7</th>\n",
       "      <td>AAP</td>\n",
       "      <td>Advance Auto Parts</td>\n",
       "      <td>Consumer Discretionary</td>\n",
       "      <td>Yes</td>\n",
       "    </tr>\n",
       "    <tr>\n",
       "      <th>9</th>\n",
       "      <td>AET</td>\n",
       "      <td>Aetna Inc</td>\n",
       "      <td>Health Care</td>\n",
       "      <td>Yes</td>\n",
       "    </tr>\n",
       "  </tbody>\n",
       "</table>\n",
       "</div>"
      ],
      "text/plain": [
       "  symbol                 Name                  Sector HCL_Strategy\n",
       "3    ACN        Accenture plc  Information Technology          Yes\n",
       "4   ATVI  Activision Blizzard  Information Technology          Yes\n",
       "5    AYI    Acuity Brands Inc             Industrials          Yes\n",
       "6   ADBE    Adobe Systems Inc  Information Technology          Yes\n",
       "7    AAP   Advance Auto Parts  Consumer Discretionary          Yes\n",
       "9    AET            Aetna Inc             Health Care          Yes"
      ]
     },
     "execution_count": 50,
     "metadata": {},
     "output_type": "execute_result"
    }
   ],
   "source": [
    "sp500List=pd.read_csv('http://data.okfn.org/data/core/s-and-p-500-companies/r/constituents.csv')\n",
    "sp500List.rename(columns={'Symbol':'symbol'},inplace=True)\n",
    "sp500List['HCL_Strategy']=sp500List.head(10)['symbol'].map(PMA_Strategy_Intraday)\n",
    "sp500List=sp500List[sp500List['HCL_Strategy']=='Yes']\n",
    "sp500List.head(10)"
   ]
  },
  {
   "cell_type": "code",
   "execution_count": 37,
   "metadata": {
    "collapsed": false
   },
   "outputs": [
    {
     "data": {
      "text/html": [
       "<div>\n",
       "<table border=\"1\" class=\"dataframe\">\n",
       "  <thead>\n",
       "    <tr style=\"text-align: right;\">\n",
       "      <th></th>\n",
       "      <th>company</th>\n",
       "      <th>industry</th>\n",
       "      <th>sector</th>\n",
       "      <th>symbol</th>\n",
       "      <th>ANR</th>\n",
       "      <th>PE</th>\n",
       "      <th>FPE</th>\n",
       "      <th>ATP</th>\n",
       "      <th>PEG</th>\n",
       "    </tr>\n",
       "  </thead>\n",
       "  <tbody>\n",
       "    <tr>\n",
       "      <th>0</th>\n",
       "      <td>3M Company</td>\n",
       "      <td>Medical/Dental Instruments</td>\n",
       "      <td>Health Care</td>\n",
       "      <td>MMM</td>\n",
       "      <td>Overweight</td>\n",
       "      <td>22.60</td>\n",
       "      <td>20.05</td>\n",
       "      <td>186.44</td>\n",
       "      <td>2.11</td>\n",
       "    </tr>\n",
       "    <tr>\n",
       "      <th>1</th>\n",
       "      <td>A.H. Belo Corporation</td>\n",
       "      <td>Newspapers/Magazines</td>\n",
       "      <td>Consumer Services</td>\n",
       "      <td>AHC</td>\n",
       "      <td>Buy</td>\n",
       "      <td>-9.48</td>\n",
       "      <td>22.68</td>\n",
       "      <td>N/A</td>\n",
       "      <td>NA</td>\n",
       "    </tr>\n",
       "    <tr>\n",
       "      <th>2</th>\n",
       "      <td>A10 Networks</td>\n",
       "      <td>Technology</td>\n",
       "      <td>n/a</td>\n",
       "      <td>ATEN</td>\n",
       "      <td>Overweight</td>\n",
       "      <td>-20.29</td>\n",
       "      <td>92.22</td>\n",
       "      <td>9.63</td>\n",
       "      <td>NA</td>\n",
       "    </tr>\n",
       "    <tr>\n",
       "      <th>3</th>\n",
       "      <td>AAR Corp.</td>\n",
       "      <td>Aerospace</td>\n",
       "      <td>Capital Goods</td>\n",
       "      <td>AIR</td>\n",
       "      <td>Overweight</td>\n",
       "      <td>23.67</td>\n",
       "      <td>19.51</td>\n",
       "      <td>36.00</td>\n",
       "      <td>NA</td>\n",
       "    </tr>\n",
       "    <tr>\n",
       "      <th>4</th>\n",
       "      <td>Aaron&amp;#39;s</td>\n",
       "      <td>Technology</td>\n",
       "      <td>n/a</td>\n",
       "      <td>AAN</td>\n",
       "      <td>Overweight</td>\n",
       "      <td>15.54</td>\n",
       "      <td>12.07</td>\n",
       "      <td>35.43</td>\n",
       "      <td>NA</td>\n",
       "    </tr>\n",
       "  </tbody>\n",
       "</table>\n",
       "</div>"
      ],
      "text/plain": [
       "                 company                    industry             sector  \\\n",
       "0             3M Company  Medical/Dental Instruments        Health Care   \n",
       "1  A.H. Belo Corporation        Newspapers/Magazines  Consumer Services   \n",
       "2           A10 Networks                  Technology                n/a   \n",
       "3              AAR Corp.                   Aerospace      Capital Goods   \n",
       "4            Aaron&#39;s                  Technology                n/a   \n",
       "\n",
       "  symbol         ANR      PE    FPE     ATP   PEG  \n",
       "0    MMM  Overweight   22.60  20.05  186.44  2.11  \n",
       "1    AHC         Buy   -9.48  22.68     N/A    NA  \n",
       "2   ATEN  Overweight  -20.29  92.22    9.63    NA  \n",
       "3    AIR  Overweight   23.67  19.51   36.00    NA  \n",
       "4    AAN  Overweight   15.54  12.07   35.43    NA  "
      ]
     },
     "execution_count": 37,
     "metadata": {},
     "output_type": "execute_result"
    }
   ],
   "source": [
    "symbolExtration =pd.read_pickle('NYSE_Buy_Overweight.pickle')\n",
    "symbolExtration.head()"
   ]
  },
  {
   "cell_type": "code",
   "execution_count": 57,
   "metadata": {
    "collapsed": true
   },
   "outputs": [],
   "source": [
    "def stock_screening(market='sp500'):\n",
    "    if market=='amex':\n",
    "        symbolExtration =pd.read_pickle('NYSE_Buy_Overweight.pickle')\n",
    "        symbolExtration.reset_index(drop=True,inplace=True)\n",
    "    else:\n",
    "        symbolExtration=pd.read_csv('http://data.okfn.org/data/core/s-and-p-500-companies/r/constituents.csv')\n",
    "        symbolExtration.rename(columns={'Symbol':'symbol'},inplace=True)\n",
    "        \n",
    "    screenedSymbols=symbolExtration\n",
    "    \n",
    "      \n",
    "    screenedSymbols['HCL_Strategy']=screenedSymbols['symbol'].map(PMA_Strategy_Intraday)\n",
    "    screenedSymbols=screenedSymbols[screenedSymbols['HCL_Strategy']=='Yes']\n",
    "    screenedSymbols.reset_index(drop=True,inplace=True)\n",
    "    return screenedSymbols"
   ]
  },
  {
   "cell_type": "code",
   "execution_count": 59,
   "metadata": {
    "collapsed": false
   },
   "outputs": [
    {
     "name": "stdout",
     "output_type": "stream",
     "text": [
      "('PMA_Strategy_Intraday', 'single positional indexer is out-of-bounds')\n",
      "('PMA_Strategy_Intraday', 'single positional indexer is out-of-bounds')\n"
     ]
    }
   ],
   "source": [
    "stock_screening=stock_screening()"
   ]
  },
  {
   "cell_type": "code",
   "execution_count": 65,
   "metadata": {
    "collapsed": false
   },
   "outputs": [
    {
     "data": {
      "text/html": [
       "<div>\n",
       "<table border=\"1\" class=\"dataframe\">\n",
       "  <thead>\n",
       "    <tr style=\"text-align: right;\">\n",
       "      <th></th>\n",
       "      <th>symbol</th>\n",
       "      <th>Name</th>\n",
       "      <th>Sector</th>\n",
       "      <th>HCL_Strategy</th>\n",
       "    </tr>\n",
       "  </thead>\n",
       "  <tbody>\n",
       "    <tr>\n",
       "      <th>0</th>\n",
       "      <td>ACN</td>\n",
       "      <td>Accenture plc</td>\n",
       "      <td>Information Technology</td>\n",
       "      <td>Yes</td>\n",
       "    </tr>\n",
       "    <tr>\n",
       "      <th>1</th>\n",
       "      <td>ATVI</td>\n",
       "      <td>Activision Blizzard</td>\n",
       "      <td>Information Technology</td>\n",
       "      <td>Yes</td>\n",
       "    </tr>\n",
       "    <tr>\n",
       "      <th>2</th>\n",
       "      <td>AYI</td>\n",
       "      <td>Acuity Brands Inc</td>\n",
       "      <td>Industrials</td>\n",
       "      <td>Yes</td>\n",
       "    </tr>\n",
       "    <tr>\n",
       "      <th>3</th>\n",
       "      <td>ADBE</td>\n",
       "      <td>Adobe Systems Inc</td>\n",
       "      <td>Information Technology</td>\n",
       "      <td>Yes</td>\n",
       "    </tr>\n",
       "    <tr>\n",
       "      <th>4</th>\n",
       "      <td>AAP</td>\n",
       "      <td>Advance Auto Parts</td>\n",
       "      <td>Consumer Discretionary</td>\n",
       "      <td>Yes</td>\n",
       "    </tr>\n",
       "  </tbody>\n",
       "</table>\n",
       "</div>"
      ],
      "text/plain": [
       "  symbol                 Name                  Sector HCL_Strategy\n",
       "0    ACN        Accenture plc  Information Technology          Yes\n",
       "1   ATVI  Activision Blizzard  Information Technology          Yes\n",
       "2    AYI    Acuity Brands Inc             Industrials          Yes\n",
       "3   ADBE    Adobe Systems Inc  Information Technology          Yes\n",
       "4    AAP   Advance Auto Parts  Consumer Discretionary          Yes"
      ]
     },
     "execution_count": 65,
     "metadata": {},
     "output_type": "execute_result"
    }
   ],
   "source": [
    "stock_screening.head()"
   ]
  },
  {
   "cell_type": "code",
   "execution_count": 69,
   "metadata": {
    "collapsed": false
   },
   "outputs": [
    {
     "data": {
      "text/plain": [
       "Consumer Discretionary         34\n",
       "Information Technology         32\n",
       "Energy                         24\n",
       "Industrials                    22\n",
       "Financials                     19\n",
       "Health Care                    14\n",
       "Utilities                      14\n",
       "Real Estate                    12\n",
       "Consumer Staples               12\n",
       "Materials                       4\n",
       "Telecommunications Services     1\n",
       "Name: Sector, dtype: int64"
      ]
     },
     "execution_count": 69,
     "metadata": {},
     "output_type": "execute_result"
    }
   ],
   "source": [
    "stock_screening['Sector'].value_counts()"
   ]
  },
  {
   "cell_type": "code",
   "execution_count": 72,
   "metadata": {
    "collapsed": true
   },
   "outputs": [],
   "source": [
    "import time\n",
    "import urllib2\n",
    "from urllib2 import urlopen\n",
    "import re"
   ]
  },
  {
   "cell_type": "code",
   "execution_count": 76,
   "metadata": {
    "collapsed": true
   },
   "outputs": [],
   "source": [
    "def YahooFinanceFPE(stock):\n",
    "    try:\n",
    "        sourceCode=urllib2.urlopen('https://finance.yahoo.com/quote/'+stock+'/key-statistics?p='+stock).read()  \n",
    "        siteBreak=sourceCode.split('forwardPE')[1].split('\"')[6]\n",
    "        return siteBreak\n",
    "\n",
    "    except Exception, e:\n",
    "        print 'failed in the YahooFinanceFPE', str(e)"
   ]
  },
  {
   "cell_type": "code",
   "execution_count": 79,
   "metadata": {
    "collapsed": true
   },
   "outputs": [],
   "source": [
    "def marketwatchAR(stock):\n",
    "    try:\n",
    "        sourceCode=urllib2.urlopen('http://www.marketwatch.com/investing/Stock/'+\\\n",
    "                                   stock+'/analystestimates?CountryCode=US').read()   #always put http:// at the beginning   \n",
    "        siteBreak=sourceCode.split('Average Recommendation')[1].split('</td>')[1].split('>')[1].strip()  \n",
    "        return siteBreak\n",
    "\n",
    "    except Exception, e:\n",
    "        print 'failed in the marketwatchAR', str(e)"
   ]
  },
  {
   "cell_type": "code",
   "execution_count": 82,
   "metadata": {
    "collapsed": true
   },
   "outputs": [],
   "source": [
    "def marketwatchTP(stock):\n",
    "    try:\n",
    "        sourceCode=urllib2.urlopen('http://www.marketwatch.com/investing/Stock/'+\\\n",
    "                                   stock+'/analystestimates?CountryCode=US').read()   #always put http:// at the beginning   \n",
    "        siteBreak=sourceCode.split('Average Target Price')[1].split('</td>')[1]\n",
    "        numberStart=siteBreak.find('>')   \n",
    "        return siteBreak[numberStart+1:]\n",
    "\n",
    "    except Exception, e:\n",
    "        print 'failed in the marketwatchTP', str(e)"
   ]
  },
  {
   "cell_type": "code",
   "execution_count": 84,
   "metadata": {
    "collapsed": true
   },
   "outputs": [],
   "source": [
    "def PEGZack(stock):\n",
    "    try:\n",
    "        sourceCode=urllib2.urlopen('https://www.zacks.com/stock/quote/'+stock).read()    \n",
    "        siteBreak=sourceCode.split('peg-ratio-ttm')[2].split('>')[1].split('<')[0]\n",
    "        return siteBreak\n",
    "\n",
    "    except Exception, e:\n",
    "        print 'failed in the PEGZack', str(e)"
   ]
  },
  {
   "cell_type": "code",
   "execution_count": 85,
   "metadata": {
    "collapsed": false
   },
   "outputs": [
    {
     "data": {
      "text/plain": [
       "'0.57'"
      ]
     },
     "execution_count": 85,
     "metadata": {},
     "output_type": "execute_result"
    }
   ],
   "source": [
    "PEGZack('GM')"
   ]
  },
  {
   "cell_type": "code",
   "execution_count": 78,
   "metadata": {
    "collapsed": false
   },
   "outputs": [
    {
     "data": {
      "text/plain": [
       "'14.73'"
      ]
     },
     "execution_count": 78,
     "metadata": {},
     "output_type": "execute_result"
    }
   ],
   "source": [
    "YahooFinanceFPE('AAPL')"
   ]
  },
  {
   "cell_type": "code",
   "execution_count": 87,
   "metadata": {
    "collapsed": false
   },
   "outputs": [
    {
     "name": "stdout",
     "output_type": "stream",
     "text": [
      "Fetching package metadata ...........\n"
     ]
    },
    {
     "name": "stderr",
     "output_type": "stream",
     "text": [
      "\n",
      "\n",
      "PackageNotFoundError: Package missing in current win-64 channels: \n",
      "  - yahoo_finance\n",
      "\n",
      "\n"
     ]
    }
   ],
   "source": [
    "!conda install yahoo_finance"
   ]
  },
  {
   "cell_type": "code",
   "execution_count": 86,
   "metadata": {
    "collapsed": false
   },
   "outputs": [
    {
     "ename": "ImportError",
     "evalue": "No module named yahoo_finance",
     "output_type": "error",
     "traceback": [
      "\u001b[1;31m---------------------------------------------------------------------------\u001b[0m",
      "\u001b[1;31mImportError\u001b[0m                               Traceback (most recent call last)",
      "\u001b[1;32m<ipython-input-86-169d6b4a2190>\u001b[0m in \u001b[0;36m<module>\u001b[1;34m()\u001b[0m\n\u001b[1;32m----> 1\u001b[1;33m \u001b[1;32mfrom\u001b[0m \u001b[0myahoo_finance\u001b[0m \u001b[1;32mimport\u001b[0m \u001b[0mShare\u001b[0m\u001b[1;33m\u001b[0m\u001b[0m\n\u001b[0m",
      "\u001b[1;31mImportError\u001b[0m: No module named yahoo_finance"
     ]
    }
   ],
   "source": [
    "from yahoo_finance import Share"
   ]
  },
  {
   "cell_type": "code",
   "execution_count": 130,
   "metadata": {
    "collapsed": true
   },
   "outputs": [],
   "source": [
    "def export_to_files(new_stocks):\n",
    "    old_HCL=pd.read_pickle('Old_HCL.pickle')\n",
    "    newAdded=new_stocks[~new_stocks['symbol'].isin(old_HCL['symbol'])].dropna()  #find the new stocks that are added\n",
    "    newAdded.reset_index(drop=True,inplace=True)\n",
    "    newAdded.dropna(inplace=True)\n",
    "    old_HCL=open('Old_HCL.pickle','wb')\n",
    "    pickle.dump(new_stocks,old_HCL)\n",
    "    old_HCL.close()\n",
    "    New_HCL=open('New_HCL.pickle','wb')\n",
    "    pickle.dump(newAdded,New_HCL)\n",
    "    New_HCL.close()\n",
    "    return "
   ]
  },
  {
   "cell_type": "code",
   "execution_count": null,
   "metadata": {
    "collapsed": true
   },
   "outputs": [],
   "source": [
    "def export_to_Excel():\n",
    "        def divideP(x,y):\n",
    "        try:\n",
    "            return float(x.replace(',',''))/float(y.replace(',',''))\n",
    "        except Exception as e:\n",
    "            return 'NaN'\n",
    "    \n",
    "    try:\n",
    "        newSymbolsAdded =pd.read_pickle('New_HCL.pickle')\n",
    "        if newSymbolsAdded.empty:\n",
    "            return newSymbolsAdded\n",
    "        else:\n",
    "            newSymbolsAdded['CMP']=newSymbolsAdded['symbol'].map(fe.YahooFinanceMP)\n",
    "            newSymbolsAdded['daily']=newSymbolsAdded['symbol'].map(PMA_Strategy_daily)\n",
    "            newSymbolsAdded['CMP/ATP']=list(map(divideP,newSymbolsAdded['CMP'],newSymbolsAdded['ATP']))\n",
    "            del newSymbolsAdded['sector']\n",
    "            newSymbolsAdded=newSymbolsAdded[['symbol','company','industry','ANR','PE','HCL_Strategy','FPE','PEG','ATP','CMP','CMP/ATP','daily']]\n",
    "            #newSymbolsAdded.sort(['ANR','CMP/ATP','FPE','PEG'], ascending=[True, True,True,True], inplace=True)\n",
    "            newSymbolsAdded.sort_values(by=['ANR','CMP/ATP','FPE','PEG'], ascending=[True, True,True,True], inplace=True)\n",
    "            newSymbolsAdded.reset_index(drop=True,inplace=True)\n",
    "            \n",
    "            writer = pd.ExcelWriter('C:/Users/alifa/OneDrive/Trading_Strategies/NewPositiveMomentum.xlsx')\n",
    "            newSymbolsAdded.to_excel(writer,sheet_name='New')\n",
    "            writer.save()\n",
    "            writer.close()\n",
    "            \n",
    "            return newSymbolsAdded\n",
    "\n",
    "    except Exception as e:\n",
    "        print ('importToExcel Function',str(e))\n",
    "    "
   ]
  }
 ],
 "metadata": {
  "anaconda-cloud": {},
  "kernelspec": {
   "display_name": "Python 2",
   "language": "python",
   "name": "python2"
  },
  "language_info": {
   "codemirror_mode": {
    "name": "ipython",
    "version": 2
   },
   "file_extension": ".py",
   "mimetype": "text/x-python",
   "name": "python",
   "nbconvert_exporter": "python",
   "pygments_lexer": "ipython2",
   "version": "2.7.13"
  }
 },
 "nbformat": 4,
 "nbformat_minor": 1
}
